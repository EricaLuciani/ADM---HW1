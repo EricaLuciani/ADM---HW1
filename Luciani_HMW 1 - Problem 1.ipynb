{
 "cells": [
  {
   "cell_type": "markdown",
   "id": "342fc259",
   "metadata": {},
   "source": [
    "## Introduction"
   ]
  },
  {
   "cell_type": "markdown",
   "id": "8bf385c8",
   "metadata": {},
   "source": [
    "#### Say 'Hello, World\" with Python"
   ]
  },
  {
   "cell_type": "code",
   "execution_count": null,
   "id": "67db0ebf",
   "metadata": {},
   "outputs": [],
   "source": [
    "if __name__ == '__main__':\n",
    "    print(\"Hello, World!\")"
   ]
  },
  {
   "cell_type": "markdown",
   "id": "416c2781",
   "metadata": {},
   "source": [
    "#### Python If-Else"
   ]
  },
  {
   "cell_type": "code",
   "execution_count": null,
   "id": "a77bacd3",
   "metadata": {},
   "outputs": [],
   "source": [
    "#!/bin/python3\n",
    "\n",
    "import math\n",
    "import os\n",
    "import random\n",
    "import re\n",
    "import sys\n",
    "\n",
    "\n",
    "\n",
    "if __name__ == '__main__':\n",
    "    n = int(input().strip())\n",
    "    if n % 2 == 1: \n",
    "        print('Weird')\n",
    "    elif n % 2 == 0:\n",
    "        if n in range(2,5):\n",
    "            print('Not Weird')\n",
    "        elif n in range(6,21):\n",
    "            print('Weird')\n",
    "        elif n > 20: \n",
    "            print('Not Weird')"
   ]
  },
  {
   "cell_type": "markdown",
   "id": "0450591a",
   "metadata": {},
   "source": [
    "#### Aritmetic operators"
   ]
  },
  {
   "cell_type": "code",
   "execution_count": null,
   "id": "b32d8cd4",
   "metadata": {},
   "outputs": [],
   "source": [
    "if __name__ == '__main__':\n",
    "    a = int(input())\n",
    "    b = int(input())\n",
    "    \n",
    "    print(a + b)\n",
    "    print(a - b)\n",
    "    print(a * b)\n"
   ]
  },
  {
   "cell_type": "markdown",
   "id": "357e15da",
   "metadata": {},
   "source": [
    "#### Python: Division"
   ]
  },
  {
   "cell_type": "code",
   "execution_count": null,
   "id": "647181dc",
   "metadata": {},
   "outputs": [],
   "source": [
    "if __name__ == '__main__':\n",
    "    a = int(input())\n",
    "    b = int(input())\n",
    "    print(a//b)\n",
    "    print(a/b)"
   ]
  },
  {
   "cell_type": "markdown",
   "id": "af5b6fc2",
   "metadata": {},
   "source": [
    "#### Loops"
   ]
  },
  {
   "cell_type": "code",
   "execution_count": null,
   "id": "8a59c21d",
   "metadata": {},
   "outputs": [],
   "source": [
    "if __name__ == '__main__':\n",
    "    n = int(input())\n",
    "    for i in range(0,n):\n",
    "        print(i**2)"
   ]
  },
  {
   "cell_type": "markdown",
   "id": "9d75c2f8",
   "metadata": {},
   "source": [
    "#### Write a function"
   ]
  },
  {
   "cell_type": "code",
   "execution_count": null,
   "id": "b06f336b",
   "metadata": {},
   "outputs": [],
   "source": [
    "def is_leap(year):\n",
    "    leap = False\n",
    "    \n",
    "    if year % 4 == 0:\n",
    "        leap = True \n",
    "        if year % 100 == 0:\n",
    "            leap = False \n",
    "            if year % 400 == 0:\n",
    "                leap = True\n",
    "    \n",
    "    return leap\n",
    "\n",
    "year = int(input())\n",
    "print(is_leap(year))"
   ]
  },
  {
   "cell_type": "markdown",
   "id": "941a1498",
   "metadata": {},
   "source": [
    "#### Print function"
   ]
  },
  {
   "cell_type": "code",
   "execution_count": null,
   "id": "6a44799f",
   "metadata": {},
   "outputs": [],
   "source": [
    "if __name__ == '__main__':\n",
    "    n = int(input())\n",
    "    output=\"\"\n",
    "    for i in range(1,n+1):\n",
    "        output += str(i)\n",
    "    print(output) "
   ]
  },
  {
   "cell_type": "markdown",
   "id": "0c895d22",
   "metadata": {},
   "source": [
    "## Basic data types"
   ]
  },
  {
   "cell_type": "markdown",
   "id": "d8c496c9",
   "metadata": {},
   "source": [
    "#### List Comprehensions"
   ]
  },
  {
   "cell_type": "code",
   "execution_count": null,
   "id": "450e4385",
   "metadata": {},
   "outputs": [],
   "source": [
    "if __name__ == '__main__':\n",
    "    x = int(input())\n",
    "    y = int(input())\n",
    "    z = int(input())\n",
    "    n = int(input())\n",
    "    \n",
    "    list = []\n",
    "    for i in range(x+1):\n",
    "        for j in range(y+1):\n",
    "            for k in range(z+1):\n",
    "                if i + j + k != n:\n",
    "                    list += [i, j, k],\n",
    "    print(list)"
   ]
  },
  {
   "cell_type": "markdown",
   "id": "f7ebb334",
   "metadata": {},
   "source": [
    "#### Find the Runner-Up Score!"
   ]
  },
  {
   "cell_type": "code",
   "execution_count": null,
   "id": "9ab51f16",
   "metadata": {},
   "outputs": [],
   "source": [
    "if __name__ == '__main__':\n",
    "    n = int(input())\n",
    "    arr = map(int, input().split())\n",
    "    lista = list(arr)\n",
    "    lista.sort()\n",
    "    if lista[n-2] < lista[n-1]:\n",
    "        print(lista[n-2])\n",
    "    else: \n",
    "        i = n-3\n",
    "        while lista[i] == lista[n-1]:\n",
    "            i-=1\n",
    "        print(lista[i])"
   ]
  },
  {
   "cell_type": "markdown",
   "id": "bd3c17e9",
   "metadata": {},
   "source": [
    "#### Finding the percentage"
   ]
  },
  {
   "cell_type": "code",
   "execution_count": null,
   "id": "9bf2382c",
   "metadata": {},
   "outputs": [],
   "source": [
    "if __name__ == '__main__':\n",
    "    n = int(input())\n",
    "    student_marks = {}\n",
    "    for _ in range(n):\n",
    "        name, *line = input().split()\n",
    "        scores = list(map(float, line))\n",
    "        student_marks[name] = scores\n",
    "    query_name = input()\n",
    "    sum_ = 0\n",
    "    for mark in student_marks[query_name]:\n",
    "        sum_ += mark\n",
    "    average = sum_ / 3\n",
    "    format_average = \"{:.2f}\".format(average)\n",
    "    print(format_average)"
   ]
  },
  {
   "cell_type": "markdown",
   "id": "7172a8a8",
   "metadata": {},
   "source": [
    "#### Lists"
   ]
  },
  {
   "cell_type": "code",
   "execution_count": null,
   "id": "84192a13",
   "metadata": {},
   "outputs": [],
   "source": [
    "if __name__ == '__main__':\n",
    "    N = int(input())\n",
    "    lista = []\n",
    "    for i in range(N):\n",
    "        c = list(map(str, input().split()))\n",
    "        if c[0] == 'insert':\n",
    "            lista.insert(int(c[1]), int(c[2]))\n",
    "        if c[0] == 'print':\n",
    "            print(lista)\n",
    "        if c[0] == \"remove\":\n",
    "            lista.remove(int(c[1]))\n",
    "        if c[0] == \"append\":\n",
    "            lista.append(int(c[1]))\n",
    "        if c[0] == \"sort\":\n",
    "            lista.sort()\n",
    "        if c[0] == \"pop\":\n",
    "            lista.pop()\n",
    "        if c[0] == 'reverse':\n",
    "            lista.reverse()"
   ]
  },
  {
   "cell_type": "markdown",
   "id": "6f2bdf26",
   "metadata": {},
   "source": [
    "#### Tuples"
   ]
  },
  {
   "cell_type": "code",
   "execution_count": null,
   "id": "6bfe2244",
   "metadata": {},
   "outputs": [],
   "source": [
    "if __name__ == '__main__':\n",
    "    n = int(input())\n",
    "    integer_list = map(int, input().split())\n",
    "    l = list(integer_list)\n",
    "    t = l[0],\n",
    "    for i in range(1,n):\n",
    "        t += l[i],\n",
    "    print(hash(t))"
   ]
  },
  {
   "cell_type": "markdown",
   "id": "f20eb7ab",
   "metadata": {},
   "source": [
    "#### Nested lists"
   ]
  },
  {
   "cell_type": "code",
   "execution_count": null,
   "id": "ea66485c",
   "metadata": {},
   "outputs": [],
   "source": [
    "records = []\n",
    "scores = []\n",
    "count = 0\n",
    "if __name__ == '__main__':\n",
    "    for _ in range(int(input())):\n",
    "        name = input()\n",
    "        score = float(input())\n",
    "        records.append([name, score])\n",
    "        scores.append(score)\n",
    "    records = sorted(records, key=lambda r: r[1])\n",
    "    scores.sort()\n",
    "    lista_nomi = []\n",
    "    i = 0\n",
    "    while scores[i] == scores[i+1]:\n",
    "        i = i+1\n",
    "    j = i+1\n",
    "    for i in range(len(records)):\n",
    "        if records[i][1] == scores[j]:\n",
    "            lista_nomi.append(records[i][0])\n",
    "    lista_nomi.sort()\n",
    "    for i in range(len(lista_nomi)):\n",
    "        print(lista_nomi[i])"
   ]
  },
  {
   "cell_type": "markdown",
   "id": "50c002b4",
   "metadata": {},
   "source": [
    "## Strings"
   ]
  },
  {
   "cell_type": "markdown",
   "id": "289097e5",
   "metadata": {},
   "source": [
    "#### sWAP cASE"
   ]
  },
  {
   "cell_type": "code",
   "execution_count": null,
   "id": "7687d0b8",
   "metadata": {},
   "outputs": [],
   "source": [
    "def swap_case(s):\n",
    "    M = 'ABCDEFGHIJKLMNOPQRSTUVWXYZ'\n",
    "    m = 'abcdefghijklmnopqrstuvwxyz'\n",
    "    n_s = ''\n",
    "    for char in s:\n",
    "        if char in M:\n",
    "            i = M.index(char)\n",
    "            n_s += m[i]\n",
    "        if char in m:\n",
    "            i = m.index(char)\n",
    "            n_s += M[i]\n",
    "        if (char not in M) and (char not in m):\n",
    "            n_s += char\n",
    "    return n_s\n",
    "\n",
    "if __name__ == '__main__':\n",
    "    s = input()\n",
    "    result = swap_case(s)\n",
    "    print(result)"
   ]
  },
  {
   "cell_type": "markdown",
   "id": "7a3dd892",
   "metadata": {},
   "source": [
    "#### String Split and Join"
   ]
  },
  {
   "cell_type": "code",
   "execution_count": null,
   "id": "44a71aeb",
   "metadata": {},
   "outputs": [],
   "source": [
    "def split_and_join(line):\n",
    "    line = line.split(\" \")\n",
    "    line = \"-\".join(line)\n",
    "    return line\n",
    "\n",
    "if __name__ == '__main__':\n",
    "    line = input()\n",
    "    result = split_and_join(line)\n",
    "    print(result)"
   ]
  },
  {
   "cell_type": "markdown",
   "id": "3048c063",
   "metadata": {},
   "source": [
    "#### What's your name "
   ]
  },
  {
   "cell_type": "code",
   "execution_count": null,
   "id": "4c147140",
   "metadata": {},
   "outputs": [],
   "source": [
    "def print_full_name(first, last):\n",
    "    print(f\"Hello {first} {last}! You just delved into python.\")\n",
    "    \n",
    "if __name__ == '__main__':\n",
    "    first_name = input()\n",
    "    last_name = input()\n",
    "    print_full_name(first_name, last_name)"
   ]
  },
  {
   "cell_type": "markdown",
   "id": "121f7e4b",
   "metadata": {},
   "source": [
    "#### Mutations"
   ]
  },
  {
   "cell_type": "code",
   "execution_count": null,
   "id": "0c944dd1",
   "metadata": {},
   "outputs": [],
   "source": [
    "def mutate_string(string, position, character):\n",
    "    string = string[:position] + character + string[position+1:]\n",
    "    return string\n",
    "\n",
    "if __name__ == '__main__':\n",
    "    s = input()\n",
    "    i, c = input().split()\n",
    "    s_new = mutate_string(s, int(i), c)\n",
    "    print(s_new)"
   ]
  },
  {
   "cell_type": "markdown",
   "id": "e8959986",
   "metadata": {},
   "source": [
    "#### Find a string"
   ]
  },
  {
   "cell_type": "code",
   "execution_count": null,
   "id": "8f27e032",
   "metadata": {},
   "outputs": [],
   "source": [
    "def count_substring(string, sub_string):\n",
    "    ls = len(string)\n",
    "    lss = len(sub_string)\n",
    "    c = 0\n",
    "    for i in range(ls-lss+1):\n",
    "        if string[i] == sub_string[0]:\n",
    "            for j in range(1,lss):\n",
    "                if string[i+j] == sub_string[j]:\n",
    "                    c += 1\n",
    "    count =c//(lss-1)\n",
    "    return count\n",
    "\n",
    "\n",
    "if __name__ == '__main__':\n",
    "    string = input().strip()\n",
    "    sub_string = input().strip()\n",
    "    \n",
    "    count = count_substring(string, sub_string)\n",
    "    print(count)"
   ]
  },
  {
   "cell_type": "markdown",
   "id": "e9ca0404",
   "metadata": {},
   "source": [
    "#### String Validators"
   ]
  },
  {
   "cell_type": "code",
   "execution_count": null,
   "id": "18c1c003",
   "metadata": {},
   "outputs": [],
   "source": [
    "if __name__ == '__main__':\n",
    "    s = input()\n",
    "    alnum = False\n",
    "    alpha = False\n",
    "    digit = False\n",
    "    lower = False\n",
    "    upper = False\n",
    "    for char in s:\n",
    "        if char.isalnum():\n",
    "            alnum = True\n",
    "        if char.isalpha():\n",
    "            alpha = True\n",
    "        if char.isdigit():\n",
    "            digit = True\n",
    "        if char.islower():\n",
    "            lower = True\n",
    "        if char.isupper():\n",
    "            upper = True\n",
    "    print(alnum)\n",
    "    print(alpha)\n",
    "    print(digit)\n",
    "    print(lower)\n",
    "    print(upper)"
   ]
  },
  {
   "cell_type": "markdown",
   "id": "6687c612",
   "metadata": {},
   "source": [
    "#### Text Alignment"
   ]
  },
  {
   "cell_type": "code",
   "execution_count": null,
   "id": "0009443b",
   "metadata": {},
   "outputs": [],
   "source": [
    "width = int(input())\n",
    "h = 'H'\n",
    "#Costruzione della Punta\n",
    "for i in range(width):\n",
    "    h1 = h + h * 2 * i\n",
    "    print(h1.center(2*width,' '))\n",
    "    \n",
    "#Costruzione secondo blocco\n",
    "h2 = width * h\n",
    "e = ' '\n",
    "for i in range(width + 1):\n",
    "    print(h2.center(2*width,' '), e.center(2*width-2,' '), h2.center(2*width,' '))\n",
    "    \n",
    "#Costruzione del blocco centrale\n",
    "h3 = 5 * width * h\n",
    "for i in range((width + 1)//2):\n",
    "    print(h3.center(6*width,' '))\n",
    "    \n",
    "#Costruzione del quarto blocco\n",
    "for i in range(width + 1):\n",
    "    print(h2.center(2*width,' '), e.center(2*width-2,' '), h2.center(2*width,' '))\n",
    "    \n",
    "#Costruzione della punta in basso\n",
    "for i in range(width-1,-1,-1):\n",
    "    h1 = h + h * 2 * i\n",
    "    print(e.center(4*width-1,' '), h1.center(2*width,' '))"
   ]
  },
  {
   "cell_type": "markdown",
   "id": "d28a9e16",
   "metadata": {},
   "source": [
    "#### Text Wrap"
   ]
  },
  {
   "cell_type": "code",
   "execution_count": null,
   "id": "d094542e",
   "metadata": {},
   "outputs": [],
   "source": [
    "import textwrap\n",
    "\n",
    "def wrap(string, max_width):\n",
    "    output = ''\n",
    "    lista = [0]\n",
    "    for i in range(len(string)):\n",
    "        if i!=0 and i % max_width == 0: \n",
    "            lista.append(i-1)\n",
    "\n",
    "    for i in lista:\n",
    "        if lista.index(i) == (len(lista)-1):\n",
    "            output += string[i+1:len(string)]\n",
    "        elif lista.index(i) == 0:\n",
    "            output += string[i:(i+max_width):1]+'\\n'\n",
    "        else: \n",
    "            output += string[i+1:(i+max_width)+1:1]+'\\n'\n",
    "    return output\n",
    "\n",
    "if __name__ == '__main__':\n",
    "    string, max_width = input(), int(input())\n",
    "    result = wrap(string, max_width)\n",
    "    print(result)"
   ]
  },
  {
   "cell_type": "markdown",
   "id": "859e95e9",
   "metadata": {},
   "source": [
    "#### Designer Door Mat"
   ]
  },
  {
   "cell_type": "code",
   "execution_count": null,
   "id": "f99076c0",
   "metadata": {},
   "outputs": [],
   "source": [
    "# Enter your code here. Read input from STDIN. Print output to STDOUT\n",
    "n, m = map(int, input().split())\n",
    "\n",
    "for i in range(1, n, 2):\n",
    "    print((\".|.\" * i).center(m, \"-\"))\n",
    "print(\"WELCOME\".center(m, \"-\"))\n",
    "for i in range(n-2, 0 ,-2):\n",
    "    print((\".|.\" * i).center(m, \"-\"))"
   ]
  },
  {
   "cell_type": "markdown",
   "id": "5451d40c",
   "metadata": {},
   "source": [
    "#### String Formatting"
   ]
  },
  {
   "cell_type": "code",
   "execution_count": null,
   "id": "516093ff",
   "metadata": {},
   "outputs": [],
   "source": [
    "def print_formatted(number):\n",
    "    # your code goes here\n",
    "    width = len(bin(number))-2\n",
    "    for i in range(1, number+1):\n",
    "        es = hex(i)\n",
    "        h = es.upper()\n",
    "        o = oct(i)\n",
    "        b = bin(i)\n",
    "        i = str(i)\n",
    "        print(i.rjust(width), o[2:].rjust(width), h[2:].rjust(width), b[2:].rjust(width))\n",
    "        \n",
    "if __name__ == '__main__':\n",
    "    n = int(input())\n",
    "    print_formatted(n)"
   ]
  },
  {
   "cell_type": "markdown",
   "id": "f7b975a2",
   "metadata": {},
   "source": [
    "#### Alphabet Rangoli"
   ]
  },
  {
   "cell_type": "code",
   "execution_count": null,
   "id": "31f08902",
   "metadata": {},
   "outputs": [],
   "source": [
    "def print_rangoli(size):\n",
    "    alph = 'abcdefghijklmnopqrstuvwxyz'\n",
    "    l = list(alph[:size])\n",
    "    dx = []\n",
    "    sx = []\n",
    "    tot = []\n",
    "    nl = 2 * size-1 #number of letters in the central row\n",
    "    for i in range(size):\n",
    "        if i == 0: \n",
    "            sx.append(l[size-1])\n",
    "            print(sx[0].center(2*nl-1, '-'))\n",
    "        else: \n",
    "            sx.append(l[size-(i+1)])\n",
    "            dx.append(l[size-i])\n",
    "            #print(dx)\n",
    "            print('-'.join(sx+dx[::-1]).center(2* nl-1, '-'))\n",
    "    dx = l[2:size]\n",
    "    sx = l[1:size]\n",
    "    sx.reverse()\n",
    "    for i in range(size-1, 0, -1):\n",
    "        if i == 1: \n",
    "            print(sx[0].center(2*nl-1, '-') )\n",
    "        else:\n",
    "            print('-'.join(sx+dx).center(2* nl-1, '-'))\n",
    "            sx.pop()\n",
    "            dx.reverse()\n",
    "            dx.pop()\n",
    "            dx.reverse()\n",
    "            \n",
    "f __name__ == '__main__':\n",
    "    n = int(input())\n",
    "    print_rangoli(n)"
   ]
  },
  {
   "cell_type": "markdown",
   "id": "83069ca2",
   "metadata": {},
   "source": [
    "#### Capitalize!"
   ]
  },
  {
   "cell_type": "code",
   "execution_count": null,
   "id": "6b4fc214",
   "metadata": {},
   "outputs": [],
   "source": [
    "def solve(s):\n",
    "    l = list(s)\n",
    "    m = 'abcdefghijklmnopqrstuvwxyz'\n",
    "    M = 'ABCDEFGHIJKLMNOPQRSTUVWXYZ'\n",
    "    if s[0] in m:\n",
    "        i = m.index(s[0])\n",
    "        l[0] = M[i]\n",
    "    for i in range(1, len(s)):\n",
    "        if s[i] == ' ' and s[i+1] in m:\n",
    "            j = m.index(s[i+1])\n",
    "            l[i+1] = M[j]\n",
    "    return(''.join(l))\n",
    "\n",
    "if __name__ == '__main__':\n",
    "    fptr = open(os.environ['OUTPUT_PATH'], 'w')\n",
    "\n",
    "    s = input()\n",
    "\n",
    "    result = solve(s)\n",
    "\n",
    "    fptr.write(result + '\\n')\n",
    "\n",
    "    fptr.close()\n"
   ]
  },
  {
   "cell_type": "markdown",
   "id": "fc5ff153",
   "metadata": {},
   "source": [
    "## Sets"
   ]
  },
  {
   "cell_type": "markdown",
   "id": "a18d74c8",
   "metadata": {},
   "source": [
    "#### Introduction to Sets"
   ]
  },
  {
   "cell_type": "code",
   "execution_count": null,
   "id": "e0e1af50",
   "metadata": {},
   "outputs": [],
   "source": [
    "def average(array):\n",
    "    # your code goes here\n",
    "    set_ = set(array)\n",
    "    average = sum(set_) / len(set_)\n",
    "    format_average = \"{:.3f}\".format(average)\n",
    "    return format_average\n",
    "\n",
    "if __name__ == '__main__':\n",
    "    n = int(input())\n",
    "    arr = list(map(int, input().split()))\n",
    "    result = average(arr)\n",
    "    print(result)"
   ]
  },
  {
   "cell_type": "markdown",
   "id": "9362b674",
   "metadata": {},
   "source": [
    "#### No idea!"
   ]
  },
  {
   "cell_type": "code",
   "execution_count": null,
   "id": "23598e38",
   "metadata": {},
   "outputs": [],
   "source": [
    "# Enter your code here. Read input from STDIN. Print output to STDOUT\n",
    "n, m = map(int, input().split())\n",
    "array = list(map(int, input().split()))\n",
    "A = set(map(int, input().split()))\n",
    "B = set(map(int, input().split()))\n",
    "happiness = 0\n",
    "\n",
    "for elem in array:\n",
    "    if elem in A:\n",
    "        happiness += 1\n",
    "    elif elem in B:\n",
    "        happiness -= 1\n",
    "print(happiness)"
   ]
  },
  {
   "cell_type": "markdown",
   "id": "77b0c699",
   "metadata": {},
   "source": [
    "#### Symmetric Difference"
   ]
  },
  {
   "cell_type": "code",
   "execution_count": null,
   "id": "2c4cb2d6",
   "metadata": {},
   "outputs": [],
   "source": [
    "# Enter your code here. Read input from STDIN. Print output to STDOUT\n",
    "sizeM = int(input())\n",
    "M = set(map(int, input().split()))\n",
    "sizeN = int(input())\n",
    "N = set(map(int, input().split()))\n",
    "U = M.union(N)\n",
    "I = M.intersection(N)\n",
    "D = U.difference(I)\n",
    "D = list(D)\n",
    "D.sort()\n",
    "for elem in D:\n",
    "    print(elem)"
   ]
  },
  {
   "cell_type": "markdown",
   "id": "e161ade3",
   "metadata": {},
   "source": [
    "#### Set .add()"
   ]
  },
  {
   "cell_type": "code",
   "execution_count": null,
   "id": "04396270",
   "metadata": {},
   "outputs": [],
   "source": [
    "# Enter your code here. Read input from STDIN. Print output to STDOUT\n",
    "n = int(input())\n",
    "stack = set()\n",
    "for i in range(n):\n",
    "    country = input()\n",
    "    stack.add(country)\n",
    "print(len(stack))"
   ]
  },
  {
   "cell_type": "markdown",
   "id": "13290b08",
   "metadata": {},
   "source": [
    "#### Set .discard(), .remove() & .pop()"
   ]
  },
  {
   "cell_type": "code",
   "execution_count": null,
   "id": "e4daf050",
   "metadata": {},
   "outputs": [],
   "source": [
    "n = int(input())\n",
    "s = set(map(int, input().split()))\n",
    "N = int(input()) #number of commands\n",
    "for i in range(N):\n",
    "    c = list(map(str, input().split()))\n",
    "    if c[0] == 'remove':\n",
    "        s.remove(int(c[1]))\n",
    "    if  c[0] == \"discard\" and int(c[1]) in s:\n",
    "        s.discard(int(c[1]))\n",
    "    if c[0] == \"pop\":\n",
    "        s.pop()\n",
    "print(sum(s))"
   ]
  },
  {
   "cell_type": "markdown",
   "id": "975796a3",
   "metadata": {},
   "source": [
    "#### Set .union() Operation"
   ]
  },
  {
   "cell_type": "code",
   "execution_count": null,
   "id": "88123bb4",
   "metadata": {},
   "outputs": [],
   "source": [
    "# Enter your code here. Read input from STDIN. Print output to STDOUT\n",
    "n = int(input())\n",
    "E = set(map(int, input().split()))\n",
    "b = int(input())\n",
    "F = set(map(int, input().split()))\n",
    "\n",
    "for elem in F:\n",
    "    E.add(elem)\n",
    "    \n",
    "total = list(E)\n",
    "print(len(total))"
   ]
  },
  {
   "cell_type": "markdown",
   "id": "1fc4c536",
   "metadata": {},
   "source": [
    "#### Set .intersection() Operation"
   ]
  },
  {
   "cell_type": "code",
   "execution_count": null,
   "id": "b010afd7",
   "metadata": {},
   "outputs": [],
   "source": [
    "# Enter your code here. Read input from STDIN. Print output to STDOUT\n",
    "n = int(input())\n",
    "E = set(map(int, input().split()))\n",
    "b = int(input())\n",
    "F = set(map(int, input().split()))\n",
    "\n",
    "print(len(E.intersection(F)))"
   ]
  },
  {
   "cell_type": "markdown",
   "id": "132df6a8",
   "metadata": {},
   "source": [
    "#### Set .difference() Operation"
   ]
  },
  {
   "cell_type": "code",
   "execution_count": null,
   "id": "d97543cf",
   "metadata": {},
   "outputs": [],
   "source": [
    "# Enter your code here. Read input from STDIN. Print output to STDOUT\n",
    "n = int(input())\n",
    "E = set(map(int, input().split()))\n",
    "b = int(input())\n",
    "F = set(map(int, input().split()))\n",
    "\n",
    "I = E.intersection(F)\n",
    "E = E.difference(I)\n",
    "print(len(E))"
   ]
  },
  {
   "cell_type": "markdown",
   "id": "ac0df402",
   "metadata": {},
   "source": [
    "#### Set .symmetric_difference() Operation"
   ]
  },
  {
   "cell_type": "code",
   "execution_count": null,
   "id": "d8329c57",
   "metadata": {},
   "outputs": [],
   "source": [
    "# Enter your code here. Read input from STDIN. Print output to STDOUT\n",
    "n = int(input())\n",
    "E = set(map(int, input().split()))\n",
    "b = int(input())\n",
    "F = set(map(int, input().split()))\n",
    "\n",
    "I = E.intersection(F)\n",
    "total = E.union(F)\n",
    "total = total.difference(I)\n",
    "print(len(total))"
   ]
  },
  {
   "cell_type": "markdown",
   "id": "d0046fba",
   "metadata": {},
   "source": [
    "#### Set Mutations"
   ]
  },
  {
   "cell_type": "code",
   "execution_count": null,
   "id": "c8ee4222",
   "metadata": {},
   "outputs": [],
   "source": [
    "# Enter your code here. Read input from STDIN. Print output to STDOUT\n",
    "n = int(input())\n",
    "A = set(map(int, input().split()))\n",
    "N = int(input())\n",
    "for i in range(N):\n",
    "    c = list(map(str, input().split()))\n",
    "    S = set(map(int, input().split()))\n",
    "    if c[0] == 'intersection_update':\n",
    "        A.intersection_update(S)\n",
    "    elif c[0] == 'difference_update':\n",
    "        A.difference_update(S)\n",
    "    elif c[0] == 'symmetric_difference_update':\n",
    "        A.symmetric_difference_update(S)\n",
    "    elif c[0] == 'update':\n",
    "        A.update(S)\n",
    "\n",
    "print(sum(A))"
   ]
  },
  {
   "cell_type": "markdown",
   "id": "c6173d8d",
   "metadata": {},
   "source": [
    "#### The Captain's Room"
   ]
  },
  {
   "cell_type": "code",
   "execution_count": null,
   "id": "7f66be23",
   "metadata": {},
   "outputs": [],
   "source": [
    "# Enter your code here. Read input from STDIN. Print output to STDOUT\n",
    "K = int(input())\n",
    "rooms = list(input().split())\n",
    "rooms.sort()\n",
    "h1 = set(rooms[0::2]) #first half\n",
    "h2 = set(rooms[1::2]) #second half\n",
    "cap = h1.symmetric_difference(h2)\n",
    "for el in cap:\n",
    "    print(el)"
   ]
  },
  {
   "cell_type": "markdown",
   "id": "37d63f26",
   "metadata": {},
   "source": [
    "#### Check Subset"
   ]
  },
  {
   "cell_type": "code",
   "execution_count": null,
   "id": "a3a48f9c",
   "metadata": {},
   "outputs": [],
   "source": [
    "# Enter your code here. Read input from STDIN. Print output to STDOUT\n",
    "T = int(input())\n",
    "for i in range(T):\n",
    "    na = int(input())\n",
    "    A = set(map(int, input().split()))\n",
    "    nb = int(input())\n",
    "    B = set(map(int, input().split()))\n",
    "    I = A.intersection(B)\n",
    "    if I == A:\n",
    "        print(True)\n",
    "    else:\n",
    "        print(False)"
   ]
  },
  {
   "cell_type": "markdown",
   "id": "a777e72b",
   "metadata": {},
   "source": [
    "#### Check Strict Superset"
   ]
  },
  {
   "cell_type": "code",
   "execution_count": null,
   "id": "a5d0e834",
   "metadata": {},
   "outputs": [],
   "source": [
    "# Enter your code here. Read input from STDIN. Print output to STDOUT\n",
    "A = set(map(int, input().split())) \n",
    "n = int(input()) \n",
    "l = [] \n",
    "for i in range(n):\n",
    "        S = set(map(int, input().split()))\n",
    "        I = A.intersection(S)\n",
    "        D1 = A.difference(I)\n",
    "        D2 = S.difference(I)\n",
    "        if len(I) != 0 and len(D1) != 0 and len(D2) ==0:\n",
    "            l.append(True)\n",
    "        else:\n",
    "            l.append(False)\n",
    "if False in l:\n",
    "    print(False)\n",
    "else: \n",
    "    print(True)"
   ]
  },
  {
   "cell_type": "markdown",
   "id": "a8e66685",
   "metadata": {},
   "source": [
    "## Collections"
   ]
  },
  {
   "cell_type": "markdown",
   "id": "756554e8",
   "metadata": {},
   "source": [
    "#### collections.Counter()"
   ]
  },
  {
   "cell_type": "code",
   "execution_count": null,
   "id": "51a1e4df",
   "metadata": {},
   "outputs": [],
   "source": [
    "# Enter your code here. Read input from STDIN. Print output to STDOUT\n",
    "from collections import Counter\n",
    "\n",
    "x = int(input())\n",
    "shoe_size = list(map(int, input().split()))\n",
    "n = int(input())\n",
    "\n",
    "shoe_size = Counter(shoe_size)\n",
    "sum_ = 0\n",
    "for i in range(n):\n",
    "    desired_size, money = map(int, input().split())\n",
    "    if desired_size in shoe_size.keys() and shoe_size[desired_size] > 0:\n",
    "        sum_ = sum_ + money\n",
    "        shoe_size[desired_size] -= 1\n",
    "print(sum_)"
   ]
  },
  {
   "cell_type": "markdown",
   "id": "9e7820d0",
   "metadata": {},
   "source": [
    "#### DefaultDict Tutorial"
   ]
  },
  {
   "cell_type": "code",
   "execution_count": null,
   "id": "2da90cf3",
   "metadata": {},
   "outputs": [],
   "source": [
    "from collections import defaultdict \n",
    "\n",
    "n, m = map(int, input().split())\n",
    "A = defaultdict(list)\n",
    "B = []\n",
    "for i in range(1, n+1):\n",
    "    A[input()].append(i)\n",
    "for i in range(m):\n",
    "    B.append(input())\n",
    "for elem in B:\n",
    "    if elem not in A:\n",
    "        print(-1) \n",
    "    else: \n",
    "        print(*A[elem])\n",
    "            "
   ]
  },
  {
   "cell_type": "markdown",
   "id": "058d6534",
   "metadata": {},
   "source": [
    "#### Collections.namedtuple()"
   ]
  },
  {
   "cell_type": "code",
   "execution_count": null,
   "id": "29be8701",
   "metadata": {},
   "outputs": [],
   "source": [
    "from collections import namedtuple\n",
    "\n",
    "n = int(input())\n",
    "columns = namedtuple('Columns', input().split())\n",
    "sum_ = 0\n",
    "for i in range(n):\n",
    "    sum_ += int(columns(*input().split()).MARKS)\n",
    "print(sum_ / n)"
   ]
  },
  {
   "cell_type": "markdown",
   "id": "b1bdb6cb",
   "metadata": {},
   "source": [
    "#### Collections.OrderedDict()"
   ]
  },
  {
   "cell_type": "code",
   "execution_count": null,
   "id": "cd9e2c84",
   "metadata": {},
   "outputs": [],
   "source": [
    "# Enter your code here. Read input from STDIN. Print output to STDOUT\n",
    "from collections import OrderedDict\n",
    "\n",
    "n = int(input())\n",
    "d = OrderedDict()\n",
    "l = []\n",
    "for i in range(n):\n",
    "    l = list(map(str,input().split()))\n",
    "    item_name = ''\n",
    "    for i in range(len(l)):\n",
    "        if i != len(l)-1:\n",
    "            item_name += (l[i] + ' ')\n",
    "    item_price = int(l[len(l)-1])\n",
    "    if item_name in d:\n",
    "        d[item_name] += item_price\n",
    "    else:\n",
    "        d[item_name] = item_price\n",
    "\n",
    "for key in d.keys():\n",
    "    print(key+str(d[key]))"
   ]
  },
  {
   "cell_type": "markdown",
   "id": "d48052d1",
   "metadata": {},
   "source": [
    "#### Word Order"
   ]
  },
  {
   "cell_type": "code",
   "execution_count": null,
   "id": "abde2d1c",
   "metadata": {},
   "outputs": [],
   "source": [
    "# Enter your code here. Read input from STDIN. Print output to STDOUT\n",
    "from collections import OrderedDict\n",
    "\n",
    "n = int(input())\n",
    "d = OrderedDict()\n",
    "for i in range(n):\n",
    "    word = input()\n",
    "    if word in d.keys():\n",
    "        d[word] += 1\n",
    "    else:\n",
    "        d[word] = 1\n",
    "print(len(d))\n",
    "for key in d.keys():\n",
    "    print(d[key], end =' ')"
   ]
  },
  {
   "cell_type": "markdown",
   "id": "3d9b6186",
   "metadata": {},
   "source": [
    "#### Collections.deque()"
   ]
  },
  {
   "cell_type": "code",
   "execution_count": null,
   "id": "0f72619c",
   "metadata": {},
   "outputs": [],
   "source": [
    "# Enter your code here. Read input from STDIN. Print output to STDOUT\n",
    "from collections import deque\n",
    "n = int(input())\n",
    "d = deque()\n",
    "for i in range(n):\n",
    "    c = list(map(str, input().split()))\n",
    "    if c[0] == 'append':\n",
    "        d.append(int(c[1]))\n",
    "    elif c[0] == 'appendleft':\n",
    "        d.appendleft(int(c[1]))\n",
    "    elif c[0] == 'pop':\n",
    "        d.pop()\n",
    "    elif c[0] == 'popleft':\n",
    "        d.popleft()\n",
    "for elem in d:\n",
    "    print(elem, end=\" \")"
   ]
  },
  {
   "cell_type": "markdown",
   "id": "2d5523a1",
   "metadata": {},
   "source": [
    "#### Company Logo"
   ]
  },
  {
   "cell_type": "code",
   "execution_count": null,
   "id": "bd7baa71",
   "metadata": {},
   "outputs": [],
   "source": [
    "#!/bin/python3\n",
    "\n",
    "import math\n",
    "import os\n",
    "import random\n",
    "import re\n",
    "import sys\n",
    "\n",
    "from collections import Counter\n",
    "\n",
    "if __name__ == '__main__':\n",
    "    s = input()\n",
    "    d = Counter(s)\n",
    "    l = []\n",
    "    c = 0\n",
    "    for key, value in d.items():\n",
    "        l.append([key, value])\n",
    "        if value == 1:\n",
    "            c += 1\n",
    "    if c == len(l):\n",
    "        l = sorted(l, key=lambda x: x[0])\n",
    "    else:\n",
    "        l = sorted(l, key=lambda x: (-x[1], x[0]))[0:3]    \n",
    "    \n",
    "    for i in range(3):  \n",
    "        print(l[i][0],l[i][1])"
   ]
  },
  {
   "cell_type": "markdown",
   "id": "808e6f9c",
   "metadata": {},
   "source": [
    "## Date and Time"
   ]
  },
  {
   "cell_type": "markdown",
   "id": "a84bef7b",
   "metadata": {},
   "source": [
    "#### Calendar Module"
   ]
  },
  {
   "cell_type": "code",
   "execution_count": null,
   "id": "416433ac",
   "metadata": {},
   "outputs": [],
   "source": [
    "import calendar\n",
    "month, day, year = input().split()\n",
    "correct_day = calendar.weekday(int(year), int(month), int(day))\n",
    "total_days = {0:\"MONDAY\", 1:'TUESDAY', 2:'WEDNESDAY', 3:'THURSDAY', 4:'FRIDAY', 5:'SATURDAY', 6:'SUNDAY'}\n",
    "print(total_days[correct_day])\n"
   ]
  },
  {
   "cell_type": "markdown",
   "id": "75d4c9ac",
   "metadata": {},
   "source": [
    "## Errors and Exceptions"
   ]
  },
  {
   "cell_type": "markdown",
   "id": "c4fdb0b9",
   "metadata": {},
   "source": [
    "#### Exceptions"
   ]
  },
  {
   "cell_type": "code",
   "execution_count": null,
   "id": "d2e6a06d",
   "metadata": {},
   "outputs": [],
   "source": [
    "# Enter your code here. Read input from STDIN. Print output to STDOUT\n",
    "t = int(input())\n",
    "for i in range(t):\n",
    "    try: \n",
    "        a, b = map(int, input().split())\n",
    "        print(a//b)\n",
    "    except ZeroDivisionError as e:\n",
    "        print(\"Error Code: integer division or modulo by zero\")\n",
    "    except ValueError as e:\n",
    "        print(\"Error Code:\", e)"
   ]
  },
  {
   "cell_type": "markdown",
   "id": "f8ca8aa5",
   "metadata": {},
   "source": [
    "## Built-ins"
   ]
  },
  {
   "cell_type": "markdown",
   "id": "3ec0468d",
   "metadata": {},
   "source": [
    "#### Zipped!"
   ]
  },
  {
   "cell_type": "code",
   "execution_count": null,
   "id": "ca6a0b68",
   "metadata": {},
   "outputs": [],
   "source": [
    "# Enter your code here. Read input from STDIN. Print output to STDOUT\n",
    "n, x = input().split()\n",
    "scores = []\n",
    "for i in range(int(x)):\n",
    "    scores_per_students = list(map(float, input().split()))\n",
    "    scores.append(scores_per_students)\n",
    "scores = list(zip(*scores))\n",
    "\n",
    "for i in range(int(n)):\n",
    "    print(sum(scores[i])/int(x))"
   ]
  },
  {
   "cell_type": "markdown",
   "id": "bb103d49",
   "metadata": {},
   "source": [
    "#### Athlete Sort"
   ]
  },
  {
   "cell_type": "code",
   "execution_count": null,
   "id": "64a0b2f8",
   "metadata": {},
   "outputs": [],
   "source": [
    "#!/bin/python3\n",
    "\n",
    "import math\n",
    "import os\n",
    "import random\n",
    "import re\n",
    "import sys\n",
    "\n",
    "\n",
    "\n",
    "if __name__ == '__main__':\n",
    "    first_multiple_input = input().rstrip().split()\n",
    "\n",
    "    n = int(first_multiple_input[0])\n",
    "\n",
    "    m = int(first_multiple_input[1])\n",
    "\n",
    "    arr = []\n",
    "\n",
    "    for _ in range(n):\n",
    "        arr.append(list(map(int, input().rstrip().split())))\n",
    "\n",
    "    k = int(input().strip())\n",
    "    arr = sorted(arr, key = lambda x: x[k])\n",
    "    \n",
    "    for i in arr:\n",
    "        for j in i:\n",
    "            print(j, end=' ')\n",
    "        print('')"
   ]
  },
  {
   "cell_type": "markdown",
   "id": "6f99537e",
   "metadata": {},
   "source": [
    "#### ginortS"
   ]
  },
  {
   "cell_type": "code",
   "execution_count": null,
   "id": "9c461a5a",
   "metadata": {},
   "outputs": [],
   "source": [
    "# Enter your code here. Read input from STDIN. Print output to STDOUT\n",
    "s = input()\n",
    "lower = []\n",
    "upper = []\n",
    "odd = []\n",
    "even = []\n",
    "for i in range(len(s)):\n",
    "    if s[i].islower():\n",
    "        lower.append(s[i])\n",
    "    if s[i].isupper():\n",
    "        upper.append(s[i])\n",
    "    if s[i].isdigit() and int(s[i]) % 2 != 0:\n",
    "        odd.append(s[i])\n",
    "    if s[i].isdigit() and int(s[i]) % 2 == 0:\n",
    "        even.append(s[i])\n",
    "lower.sort()\n",
    "upper.sort()\n",
    "odd.sort()\n",
    "even.sort()\n",
    "print(''.join(lower) + ''.join(upper) + ''.join(odd) + ''.join(even))"
   ]
  },
  {
   "cell_type": "markdown",
   "id": "31842f21",
   "metadata": {},
   "source": [
    "## Python Functionals "
   ]
  },
  {
   "cell_type": "markdown",
   "id": "183df9fc",
   "metadata": {},
   "source": [
    "#### Map and Lambda Function"
   ]
  },
  {
   "cell_type": "code",
   "execution_count": null,
   "id": "cb92addf",
   "metadata": {},
   "outputs": [],
   "source": [
    "cube = lambda x: x**3# complete the lambda function \n",
    "\n",
    "def fibonacci(n):\n",
    "    # return a list of fibonacci numbers\n",
    "    if n == 0:\n",
    "        return []\n",
    "    elif n == 1:\n",
    "        return [0]\n",
    "    else:\n",
    "        fibo = [0, 1]\n",
    "        for i in range(2, n):\n",
    "            fn = fibo[i-2] + fibo[i-1]\n",
    "            fibo.append(fn)\n",
    "        return fibo\n",
    "\n",
    "if __name__ == '__main__':\n",
    "    n = int(input())\n",
    "    print(list(map(cube, fibonacci(n))))"
   ]
  },
  {
   "cell_type": "markdown",
   "id": "a98a8bee",
   "metadata": {},
   "source": [
    "## Regex and Python Challenges"
   ]
  },
  {
   "cell_type": "markdown",
   "id": "900878bb",
   "metadata": {},
   "source": [
    "#### Detect Floating Point Number"
   ]
  },
  {
   "cell_type": "code",
   "execution_count": null,
   "id": "d3700817",
   "metadata": {},
   "outputs": [],
   "source": [
    "# Enter your code here. Read input from STDIN. Print output to STDOUT\n",
    "import re\n",
    "\n",
    "t = int(input())\n",
    "pattern = \"^[-+]?\\d*[.]\\d+$\" \n",
    "\n",
    "for i in range(t):\n",
    "    s = input()\n",
    "    if re.match(pattern, s):\n",
    "        print(True)\n",
    "    else:\n",
    "        print(False)"
   ]
  },
  {
   "cell_type": "markdown",
   "id": "677ee234",
   "metadata": {},
   "source": [
    "#### Re.split()"
   ]
  },
  {
   "cell_type": "code",
   "execution_count": null,
   "id": "8cc89a2a",
   "metadata": {},
   "outputs": [],
   "source": [
    "regex_pattern = r\"[^0-9]+\"\n",
    "\n",
    "import re\n",
    "\n",
    "print(\"\\n\".join(re.split(regex_pattern, input())))"
   ]
  },
  {
   "cell_type": "markdown",
   "id": "51b81aa1",
   "metadata": {},
   "source": [
    "#### Group(), Groups() & Groupdict()"
   ]
  },
  {
   "cell_type": "code",
   "execution_count": null,
   "id": "dba6059b",
   "metadata": {},
   "outputs": [],
   "source": [
    "# Enter your code here. Read input from STDIN. Print output to STDOUT\n",
    "import re\n",
    "s = input()\n",
    "occ = []\n",
    "for i in range(len(s)-1):\n",
    "    if s[i].isalnum():\n",
    "        if s[i] == s[i+1]:\n",
    "            occ.append(s[i+1])\n",
    "            break\n",
    "if occ == []:\n",
    "    print(-1)\n",
    "else: \n",
    "    print(occ[0])"
   ]
  },
  {
   "cell_type": "markdown",
   "id": "d567d921",
   "metadata": {},
   "source": [
    "#### Re.findall() & Re.finditer()"
   ]
  },
  {
   "cell_type": "code",
   "execution_count": null,
   "id": "85be539f",
   "metadata": {},
   "outputs": [],
   "source": [
    "# Enter your code here. Read input from STDIN. Print output to STDOUT\n",
    "import re\n",
    "\n",
    "s = input()\n",
    "pattern = r\"(?<=[qwrtypsdfghjklzxcvbnmQWRTYPSDFGHJKLZXCVBNM])([aeiouAEIOU]{2,})(?=[qwrtypsdfghjklzxcvbnmQWRTYPSDFGHJKLZXCVBNM])\"\n",
    "\n",
    "output = re.findall(pattern, s)\n",
    "output = re.findall(pattern, s)\n",
    "\n",
    "if output:\n",
    "    for i in range(len(output)):\n",
    "        app = ''\n",
    "        app += output[i]\n",
    "        print(app)\n",
    "else:\n",
    "    print(-1)"
   ]
  },
  {
   "cell_type": "markdown",
   "id": "0630d4ac",
   "metadata": {},
   "source": [
    "#### Re.start() & Re.end()"
   ]
  },
  {
   "cell_type": "code",
   "execution_count": null,
   "id": "129c5c4e",
   "metadata": {},
   "outputs": [],
   "source": [
    "import re\n",
    "\n",
    "s = input()\n",
    "k = input()\n",
    "l = []\n",
    "\n",
    "for i, j in enumerate(s):\n",
    "    m = re.match(k, s[i:])\n",
    "    if m:\n",
    "        l.append((i, i + len(k) - 1))\n",
    "        \n",
    "if len(l) == 0:\n",
    "    print((-1, -1))\n",
    "for elem in l:\n",
    "    print(elem)"
   ]
  },
  {
   "cell_type": "markdown",
   "id": "69f8fedf",
   "metadata": {},
   "source": [
    "#### Regex Substitution"
   ]
  },
  {
   "cell_type": "code",
   "execution_count": null,
   "id": "07f7fe0f",
   "metadata": {},
   "outputs": [],
   "source": [
    "# Enter your code here. Read input from STDIN. Print output to STDOUT\n",
    "import re \n",
    "\n",
    "n = int(input())\n",
    "pattern = r'\\s&&\\s'\n",
    "pattern2 = r'\\s\\|\\|\\s'\n",
    "s_2 = ''\n",
    "for _ in range(n):\n",
    "        s = input()\n",
    "        output = re.sub(pattern, \" and \", s)\n",
    "        output = re.sub(pattern, \" and \", output)\n",
    "        output = re.sub(pattern2, \" or \", output)\n",
    "        output = re.sub(pattern2, \" or \", output)\n",
    "        s_2 = s_2 + output + \"\\n\"\n",
    "        \n",
    "print(s_2)"
   ]
  },
  {
   "cell_type": "markdown",
   "id": "cc120a64",
   "metadata": {},
   "source": [
    "#### Validating Roman Numerals"
   ]
  },
  {
   "cell_type": "code",
   "execution_count": null,
   "id": "c934f809",
   "metadata": {},
   "outputs": [],
   "source": [
    "regex_pattern = r\"^M{0,3}(D?C{0,3}|C[DM])(L?X{0,3}|X[LC])(V?I{0,3}|I[VX])$\"\t# Do not delete 'r'.\n",
    "import re\n",
    "print(str(bool(re.match(regex_pattern, input()))))"
   ]
  },
  {
   "cell_type": "markdown",
   "id": "93bd7b1c",
   "metadata": {},
   "source": [
    "#### Validating phone numbers"
   ]
  },
  {
   "cell_type": "code",
   "execution_count": null,
   "id": "d891ad16",
   "metadata": {},
   "outputs": [],
   "source": [
    "# Enter your code here. Read input from STDIN. Print output to STDOUT\n",
    "regex_pattern = r\"^[7-9][0-9]{9}$\"    # Do not delete 'r'.\n",
    "\n",
    "import re\n",
    "n = int(input())\n",
    "for i in range(n):\n",
    "    mobile_numbers = input()\n",
    "    if len(mobile_numbers) == 10:\n",
    "        output = re.match(regex_pattern, mobile_numbers)\n",
    "        if output:\n",
    "            print('YES')\n",
    "        else:\n",
    "            print('NO')\n",
    "    else:\n",
    "        print('NO')"
   ]
  },
  {
   "cell_type": "markdown",
   "id": "5465adfb",
   "metadata": {},
   "source": [
    "#### Validating and Parsing Email Addresses"
   ]
  },
  {
   "cell_type": "code",
   "execution_count": null,
   "id": "088943de",
   "metadata": {},
   "outputs": [],
   "source": [
    "# Enter your code here. Read input from STDIN. Print output to STDOUT\n",
    "import re\n",
    "\n",
    "n = int(input())\n",
    "pattern = r\"<[a-zA-Z][a-zA-Z0-9\\-\\.\\_]+\\@[a-zA-Z]+\\.[a-zA-Z]{1,3}>\"\n",
    "for _ in range(n):\n",
    "    name, email = input().split()\n",
    "    output = re.match(pattern, email)\n",
    "    if output:\n",
    "        print(name, end = ' ')\n",
    "        print(email)\n",
    "    "
   ]
  },
  {
   "cell_type": "markdown",
   "id": "a4f120d9",
   "metadata": {},
   "source": [
    "#### Hex Color Code"
   ]
  },
  {
   "cell_type": "code",
   "execution_count": null,
   "id": "93ddc265",
   "metadata": {},
   "outputs": [],
   "source": [
    "# Enter your code here. Read input from STDIN. Print output to STDOUT\n",
    "import re\n",
    "\n",
    "n = int(input())\n",
    "pattern = r\".(#[0-9A-Fa-f]{6}|#[0-9A-Fa-f]{3})\"\n",
    "#s = ''\n",
    "for _ in range(n):\n",
    "    codes = input()\n",
    "    output = re.findall(pattern, codes)\n",
    "    if output != []:\n",
    "        for elem in output:\n",
    "            print(elem)"
   ]
  },
  {
   "cell_type": "markdown",
   "id": "4630f34e",
   "metadata": {},
   "source": [
    "#### Validating UID"
   ]
  },
  {
   "cell_type": "code",
   "execution_count": null,
   "id": "05b18734",
   "metadata": {},
   "outputs": [],
   "source": [
    "# Enter your code here. Read input from STDIN. Print output to STDOUT\n",
    "t = int(input())\n",
    "\n",
    "for _ in range(t):\n",
    "    uid = input()\n",
    "    if uid.isalnum() and len(uid) == 10:\n",
    "        count1 = 0\n",
    "        count2 = 0\n",
    "        count3 = 0\n",
    "        for elem in uid:\n",
    "            if elem.isnumeric():\n",
    "                count1 += 1\n",
    "            if elem.isupper():\n",
    "                count2 += 1\n",
    "            count3 += uid.count(elem)\n",
    "        if count1 >= 3 and count2 >= 2 and count3 == 10:\n",
    "            print('Valid')\n",
    "        else:\n",
    "            print('Invalid')\n",
    "    else:\n",
    "        print('Invalid')"
   ]
  },
  {
   "cell_type": "markdown",
   "id": "e86e5baa",
   "metadata": {},
   "source": [
    "#### Validating Credit Card Numbers"
   ]
  },
  {
   "cell_type": "code",
   "execution_count": null,
   "id": "c134efbd",
   "metadata": {},
   "outputs": [],
   "source": [
    "# Enter your code here. Read input from STDIN. Print output to STDOUT\n",
    "import re \n",
    "\n",
    "n = int(input())\n",
    "pattern = r\"^[4-6][0-9]{3}(-?[0-9]{4}){3}\"\n",
    "for _ in range(n):\n",
    "    credit_card = input()\n",
    "    output = re.match(pattern, credit_card)\n",
    "    output2 = True\n",
    "    if output and len(credit_card) <= 19:\n",
    "        if len(credit_card) == 19:\n",
    "            credit_card = credit_card[0:4] + credit_card[5:9] + credit_card[10:14] + credit_card[15:19]\n",
    "        i = 0\n",
    "        while i<len(credit_card)-3:\n",
    "            l = credit_card[i:i+4]\n",
    "            if len(set(l)) == 1:\n",
    "                output2 = False\n",
    "            i += 1\n",
    "        if output2 == True:\n",
    "            print('Valid')\n",
    "        else:\n",
    "            print('Invalid')\n",
    "    else:\n",
    "        print('Invalid')"
   ]
  },
  {
   "cell_type": "markdown",
   "id": "2389b822",
   "metadata": {},
   "source": [
    "## XML"
   ]
  },
  {
   "cell_type": "markdown",
   "id": "b1b81d69",
   "metadata": {},
   "source": [
    "#### XML 1 - Find the Score"
   ]
  },
  {
   "cell_type": "code",
   "execution_count": null,
   "id": "c5b564e2",
   "metadata": {},
   "outputs": [],
   "source": [
    "t sys\n",
    "import xml.etree.ElementTree as etree\n",
    "\n",
    "def get_attr_number(node):\n",
    "    n = len(node.attrib)\n",
    "    for child in node:\n",
    "        n += get_attr_number(child)\n",
    "    return n\n",
    "\n",
    "if __name__ == '__main__':\n",
    "    sys.stdin.readline()\n",
    "    xml = sys.stdin.read()\n",
    "    tree = etree.ElementTree(etree.fromstring(xml))\n",
    "    root = tree.getroot()\n",
    "    print(get_attr_number(root))"
   ]
  },
  {
   "cell_type": "markdown",
   "id": "a9637d4b",
   "metadata": {},
   "source": [
    "#### XML2 - Find the Maximum Depth"
   ]
  },
  {
   "cell_type": "code",
   "execution_count": null,
   "id": "69fa5946",
   "metadata": {},
   "outputs": [],
   "source": [
    "import xml.etree.ElementTree as etree\n",
    "\n",
    "maxdepth = 0\n",
    "def depth(elem, level):\n",
    "    global maxdepth\n",
    "    for child in elem:\n",
    "        depth(child, level+1)\n",
    "    maxdepth = max(maxdepth, level+1)\n",
    "    return maxdepth\n",
    "        \n",
    "if __name__ == '__main__':\n",
    "    n = int(input())\n",
    "    xml = \"\"\n",
    "    for i in range(n):\n",
    "        xml =  xml + input() + \"\\n\"\n",
    "    tree = etree.ElementTree(etree.fromstring(xml))\n",
    "    depth(tree.getroot(), -1)\n",
    "    print(maxdepth)"
   ]
  },
  {
   "cell_type": "markdown",
   "id": "e304ebc6",
   "metadata": {},
   "source": [
    "## Closures and Decorations"
   ]
  },
  {
   "cell_type": "markdown",
   "id": "8ff2bb73",
   "metadata": {},
   "source": [
    "#### Standardize Mobile Number Using Decorators"
   ]
  },
  {
   "cell_type": "code",
   "execution_count": null,
   "id": "38a41208",
   "metadata": {},
   "outputs": [],
   "source": [
    "import re\n",
    "\n",
    "def wrapper(f):\n",
    "    def fun(l):\n",
    "        pattern = r\"^[+91|91|0]?[0-9]{10}\"\n",
    "        for i in range(len(l)):\n",
    "            m = re.match(pattern, l[i])\n",
    "            if m:\n",
    "                if len(l[i]) == 10: #there's no 0 nor 91 nor +91 at the beginning\n",
    "                    l[i] = '+91 ' + str(l[i][0:5]) + ' ' + str(l[i][5:])\n",
    "                elif len(l[i]) > 10:\n",
    "                    if l[i][0:2] == '91':\n",
    "                        l[i] = '+91 ' + str(l[i][2:7]) + ' ' + str(l[i][7:])\n",
    "                    elif l[i][0] == '0':\n",
    "                        l[i] = '+91 ' + str(l[i][1:6]) + ' ' + str(l[i][6:])\n",
    "                    elif l[i][0:3] == '+91':\n",
    "                        l[i] = '+91' + ' ' + str(l[i][3:8]) + ' ' + str(l[i][8:])\n",
    "            else:\n",
    "                l.remove(l[i])\n",
    "        f(l)            \n",
    "    return fun\n",
    "\n",
    "@wrapper\n",
    "def sort_phone(l):\n",
    "    print(*sorted(l), sep='\\n')\n",
    "\n",
    "if __name__ == '__main__':\n",
    "    l = [input() for _ in range(int(input()))]\n",
    "    sort_phone(l) "
   ]
  },
  {
   "cell_type": "markdown",
   "id": "7e1d5eef",
   "metadata": {},
   "source": [
    "#### Decorators 2 - Name Directory"
   ]
  },
  {
   "cell_type": "code",
   "execution_count": null,
   "id": "d00b8b8e",
   "metadata": {},
   "outputs": [],
   "source": [
    "import operator\n",
    "\n",
    "def person_lister(f):\n",
    "    def inner(people):\n",
    "        people = sorted(people, key=lambda x: int(x[2]))\n",
    "        return [f(person) for person in people]\n",
    "    return inner\n",
    "\n",
    "@person_lister\n",
    "def name_format(person):\n",
    "    return (\"Mr. \" if person[3] == \"M\" else \"Ms. \") + person[0] + \" \" + person[1]\n",
    "\n",
    "if __name__ == '__main__':\n",
    "    people = [input().split() for i in range(int(input()))]\n",
    "    print(*name_format(people), sep='\\n')"
   ]
  },
  {
   "cell_type": "markdown",
   "id": "bc941f7f",
   "metadata": {},
   "source": [
    "## Numpy"
   ]
  },
  {
   "cell_type": "markdown",
   "id": "85935058",
   "metadata": {},
   "source": [
    "#### Arrays"
   ]
  },
  {
   "cell_type": "code",
   "execution_count": null,
   "id": "3097fbe9",
   "metadata": {},
   "outputs": [],
   "source": [
    "import numpy\n",
    "\n",
    "def arrays(arr):\n",
    "    arr = list(arr)\n",
    "    arr.reverse()\n",
    "    return numpy.array(arr, float)\n",
    "\n",
    "arr = input().strip().split(' ')\n",
    "result = arrays(arr)\n",
    "print(result)"
   ]
  },
  {
   "cell_type": "markdown",
   "id": "364a30cf",
   "metadata": {},
   "source": [
    "#### Shape and Reshape"
   ]
  },
  {
   "cell_type": "code",
   "execution_count": null,
   "id": "6b77203a",
   "metadata": {},
   "outputs": [],
   "source": [
    "import numpy as np\n",
    "\n",
    "arr = list(map(int, input().split()))\n",
    "arr = np.array(arr)\n",
    "arr.shape = (3, 3)\n",
    "print(arr)"
   ]
  },
  {
   "cell_type": "markdown",
   "id": "58ab854d",
   "metadata": {},
   "source": [
    "#### Transpose and Flatten"
   ]
  },
  {
   "cell_type": "code",
   "execution_count": null,
   "id": "8873edaf",
   "metadata": {},
   "outputs": [],
   "source": [
    "import numpy as np\n",
    "\n",
    "n, m = map(int, input().split())\n",
    "matrix = [list(map(int, input().split())) for _ in range(n)]\n",
    "\n",
    "matrix = np.array(matrix)\n",
    "\n",
    "print(np.transpose(matrix))\n",
    "print(matrix.flatten())"
   ]
  },
  {
   "cell_type": "markdown",
   "id": "6c8e4d9b",
   "metadata": {},
   "source": [
    "#### Concatenate "
   ]
  },
  {
   "cell_type": "code",
   "execution_count": null,
   "id": "53324e62",
   "metadata": {},
   "outputs": [],
   "source": [
    "import numpy as np\n",
    "\n",
    "n, m, p = map(int, input().split())\n",
    "matrix1 = np.array([list(map(int, input().split())) for _ in range(n)])\n",
    "matrix2 = np.array([list(map(int, input().split())) for _ in range(m)])\n",
    "print (np.concatenate((matrix1, matrix2), axis = 0))"
   ]
  },
  {
   "cell_type": "markdown",
   "id": "eb333e1d",
   "metadata": {},
   "source": [
    "#### Zeros and Ones"
   ]
  },
  {
   "cell_type": "code",
   "execution_count": null,
   "id": "fdbac309",
   "metadata": {},
   "outputs": [],
   "source": [
    "import numpy as np\n",
    "\n",
    "dim = tuple(map(int, input().split()))\n",
    "print(np.zeros(dim, dtype = np.int))\n",
    "print(np.ones(dim, dtype = np.int))"
   ]
  },
  {
   "cell_type": "markdown",
   "id": "f28c3e42",
   "metadata": {},
   "source": [
    "#### Eye and Identity"
   ]
  },
  {
   "cell_type": "code",
   "execution_count": null,
   "id": "7dbcb6cc",
   "metadata": {},
   "outputs": [],
   "source": [
    "import numpy\n",
    "numpy.set_printoptions(legacy='1.13')\n",
    "\n",
    "n, m = map(int, input().split())\n",
    "print(numpy.eye(n, m, k = 0)) "
   ]
  },
  {
   "cell_type": "markdown",
   "id": "cdf4fa69",
   "metadata": {},
   "source": [
    "#### Array Mathematics "
   ]
  },
  {
   "cell_type": "code",
   "execution_count": null,
   "id": "204ce4fb",
   "metadata": {},
   "outputs": [],
   "source": [
    "import numpy\n",
    "\n",
    "n, m = map(int, input().split())\n",
    "A = numpy.array([list(map(int, input().split())) for _ in range(n)], int)\n",
    "B = numpy.array([list(map(int, input().split())) for _ in range(n)], int)\n",
    "print(A + B)\n",
    "print(A - B)\n",
    "print(A * B)\n",
    "print(A // B)\n",
    "print(A % B)\n",
    "print(A ** B)"
   ]
  },
  {
   "cell_type": "markdown",
   "id": "e75b04c9",
   "metadata": {},
   "source": [
    "#### Floor, Ceil, Rint"
   ]
  },
  {
   "cell_type": "code",
   "execution_count": null,
   "id": "63100104",
   "metadata": {},
   "outputs": [],
   "source": [
    "import numpy\n",
    "numpy.set_printoptions(legacy = '1.13')\n",
    "\n",
    "A = numpy.array(list(map(float, input().split())))\n",
    "print(numpy.floor(A))\n",
    "print(numpy.ceil(A))\n",
    "print(numpy.rint(A))"
   ]
  },
  {
   "cell_type": "markdown",
   "id": "aed956f2",
   "metadata": {},
   "source": [
    "#### Sum and Prod"
   ]
  },
  {
   "cell_type": "code",
   "execution_count": null,
   "id": "b26fa131",
   "metadata": {},
   "outputs": [],
   "source": [
    "import numpy\n",
    "\n",
    "n, m = map(int, input().split())\n",
    "arr = [numpy.array(list(map(int, input().split())),int) for _ in range(n)]\n",
    "arr = numpy.sum(arr, axis = 0)\n",
    "print(numpy.prod(arr))"
   ]
  },
  {
   "cell_type": "markdown",
   "id": "1e7a800b",
   "metadata": {},
   "source": [
    "#### Min and Max"
   ]
  },
  {
   "cell_type": "code",
   "execution_count": null,
   "id": "3347c983",
   "metadata": {},
   "outputs": [],
   "source": [
    "import numpy\n",
    "\n",
    "n, m = map(int, input().split())\n",
    "arr = [numpy.array(list(map(int, input().split())),int) for _ in range(n)]\n",
    "arr = numpy.min(arr, axis = 1)\n",
    "print(numpy.max(arr))"
   ]
  },
  {
   "cell_type": "markdown",
   "id": "5d3d5641",
   "metadata": {},
   "source": [
    "#### Mean, Var, Std"
   ]
  },
  {
   "cell_type": "code",
   "execution_count": null,
   "id": "435de8b3",
   "metadata": {},
   "outputs": [],
   "source": [
    "import numpy\n",
    "\n",
    "n, m = map(int, input().split())\n",
    "arr = [numpy.array(list(map(int, input().split())),int) for _ in range(n)]\n",
    "print(numpy.mean(arr, axis = 1))\n",
    "print(numpy.var(arr, axis = 0))\n",
    "print(round(numpy.std(arr, axis = None), 11))"
   ]
  },
  {
   "cell_type": "markdown",
   "id": "6d8faada",
   "metadata": {},
   "source": [
    "#### Dot and Cross"
   ]
  },
  {
   "cell_type": "code",
   "execution_count": null,
   "id": "b8141e62",
   "metadata": {},
   "outputs": [],
   "source": [
    "import numpy\n",
    "\n",
    "n = int(input())\n",
    "A = numpy.array([list(map(int, input().split())) for _ in range(n)], int)\n",
    "B = numpy.array([list(map(int, input().split())) for _ in range(n)], int)\n",
    "print(numpy.dot(A, B))"
   ]
  },
  {
   "cell_type": "markdown",
   "id": "fbeb8c6f",
   "metadata": {},
   "source": [
    "#### Inner and Outer "
   ]
  },
  {
   "cell_type": "code",
   "execution_count": null,
   "id": "51b7d232",
   "metadata": {},
   "outputs": [],
   "source": [
    "import numpy\n",
    "\n",
    "A = numpy.array(list(map(int, input().split())), int)\n",
    "B = numpy.array(list(map(int, input().split())), int)\n",
    "print(numpy.inner(A, B))\n",
    "print(numpy.outer(A, B))"
   ]
  },
  {
   "cell_type": "markdown",
   "id": "d8ff0325",
   "metadata": {},
   "source": [
    "#### Polynomials"
   ]
  },
  {
   "cell_type": "code",
   "execution_count": null,
   "id": "c7c749e0",
   "metadata": {},
   "outputs": [],
   "source": [
    "import numpy\n",
    "\n",
    "p = numpy.array(list(map(float, input().split())), float)\n",
    "x = float(input())\n",
    "print(numpy.polyval(p, x))\n"
   ]
  },
  {
   "cell_type": "markdown",
   "id": "4e2649d2",
   "metadata": {},
   "source": [
    "#### Linear Algebra "
   ]
  },
  {
   "cell_type": "code",
   "execution_count": null,
   "id": "c79205fd",
   "metadata": {},
   "outputs": [],
   "source": [
    "import numpy\n",
    "\n",
    "n = int(input())\n",
    "A = numpy.array([list(map(float, input().split())) for _ in range(n)], float)\n",
    "print(round(numpy.linalg.det(A),2))"
   ]
  }
 ],
 "metadata": {
  "kernelspec": {
   "display_name": "Python 3 (ipykernel)",
   "language": "python",
   "name": "python3"
  },
  "language_info": {
   "codemirror_mode": {
    "name": "ipython",
    "version": 3
   },
   "file_extension": ".py",
   "mimetype": "text/x-python",
   "name": "python",
   "nbconvert_exporter": "python",
   "pygments_lexer": "ipython3",
   "version": "3.9.12"
  }
 },
 "nbformat": 4,
 "nbformat_minor": 5
}
